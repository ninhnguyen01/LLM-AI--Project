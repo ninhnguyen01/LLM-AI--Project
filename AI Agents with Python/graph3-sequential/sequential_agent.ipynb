{
 "cells": [
  {
   "cell_type": "code",
   "execution_count": 1,
   "id": "c29b4897",
   "metadata": {},
   "outputs": [],
   "source": [
    "# import package\n",
    "\n",
    "from typing import List, TypedDict\n",
    "from langgraph.graph import StateGraph\n"
   ]
  },
  {
   "cell_type": "code",
   "execution_count": 2,
   "id": "d36a9ab4",
   "metadata": {},
   "outputs": [],
   "source": [
    "class AgentState(TypedDict):\n",
    "    name: str\n",
    "    age: str\n",
    "    status: str"
   ]
  },
  {
   "cell_type": "code",
   "execution_count": 3,
   "id": "072b82e6",
   "metadata": {},
   "outputs": [],
   "source": [
    "def first_node(state: AgentState) -> AgentState:\n",
    "    \"\"\"1st sequence node\"\"\"\n",
    "\n",
    "    state[\"status\"] = f\"Person is -- {state[\"name\"]} --\" \n",
    "    return state\n",
    "\n",
    "def second_node(state: AgentState) -> AgentState:\n",
    "    \"\"\"2nd sequence node\"\"\"\n",
    "\n",
    "    state[\"status\"] = state[\"status\"] + \" &\" + f\" Age is -- {state[\"age\"]} -- years old\" \n",
    "    return state"
   ]
  },
  {
   "cell_type": "code",
   "execution_count": 4,
   "id": "df635fe0",
   "metadata": {},
   "outputs": [],
   "source": [
    "graph = StateGraph(AgentState)\n",
    "\n",
    "graph.add_node(\"1st_node\", first_node)\n",
    "graph.add_node(\"2nd_node\", second_node)\n",
    "\n",
    "graph.set_entry_point(\"1st_node\")\n",
    "graph.add_edge(\"1st_node\", \"2nd_node\")\n",
    "graph.set_finish_point(\"2nd_node\")\n",
    "app = graph.compile()"
   ]
  },
  {
   "cell_type": "code",
   "execution_count": 5,
   "id": "f59ad6e3",
   "metadata": {},
   "outputs": [
    {
     "data": {
      "image/png": "[encoded data removed]",
      "text/plain": [
       "<IPython.core.display.Image object>"
      ]
     },
     "metadata": {},
     "output_type": "display_data"
    }
   ],
   "source": [
    "# import package\n",
    "from IPython.display import Image, display\n",
    "\n",
    "display(Image(app.get_graph().draw_mermaid_png()))"
   ]
  },
  {
   "cell_type": "code",
   "execution_count": 6,
   "id": "2bccd255",
   "metadata": {},
   "outputs": [
    {
     "name": "stdout",
     "output_type": "stream",
     "text": [
      "Continental Hotel Record: \n",
      "{'name': 'Jardani', 'age': 52, 'status': 'Person is -- Jardani -- & Age is -- 52 -- years old'}\n"
     ]
    }
   ],
   "source": [
    "result = app.invoke({\"name\" : \"Jardani\", \"age\" : 52, })\n",
    "print(\"Continental Hotel Record: \")\n",
    "print(result)"
   ]
  }
 ],
 "metadata": {
  "kernelspec": {
   "display_name": "Python 3",
   "language": "python",
   "name": "python3"
  },
  "language_info": {
   "codemirror_mode": {
    "name": "ipython",
    "version": 3
   },
   "file_extension": ".py",
   "mimetype": "text/x-python",
   "name": "python",
   "nbconvert_exporter": "python",
   "pygments_lexer": "ipython3",
   "version": "3.13.5"
  }
 },
 "nbformat": 4,
 "nbformat_minor": 5
}
